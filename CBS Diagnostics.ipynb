{
 "cells": [
  {
   "cell_type": "code",
   "execution_count": 1,
   "id": "916dc293",
   "metadata": {},
   "outputs": [],
   "source": [
    "import numpy as np\n",
    "import pandas as pd"
   ]
  },
  {
   "cell_type": "code",
   "execution_count": 2,
   "id": "5fc2ba5a",
   "metadata": {},
   "outputs": [],
   "source": [
    "original_data=pd.read_csv('conveyer belt data.csv')"
   ]
  },
  {
   "cell_type": "code",
   "execution_count": 3,
   "id": "e804a241",
   "metadata": {},
   "outputs": [
    {
     "data": {
      "text/html": [
       "<div>\n",
       "<style scoped>\n",
       "    .dataframe tbody tr th:only-of-type {\n",
       "        vertical-align: middle;\n",
       "    }\n",
       "\n",
       "    .dataframe tbody tr th {\n",
       "        vertical-align: top;\n",
       "    }\n",
       "\n",
       "    .dataframe thead th {\n",
       "        text-align: right;\n",
       "    }\n",
       "</style>\n",
       "<table border=\"1\" class=\"dataframe\">\n",
       "  <thead>\n",
       "    <tr style=\"text-align: right;\">\n",
       "      <th></th>\n",
       "      <th>belt speed m/s</th>\n",
       "      <th>Motor temperature ℃</th>\n",
       "      <th>Motor current A</th>\n",
       "      <th>Drum temperature ℃</th>\n",
       "      <th>Belt tension MP</th>\n",
       "      <th>BELT RUNNIG STATUS</th>\n",
       "    </tr>\n",
       "  </thead>\n",
       "  <tbody>\n",
       "    <tr>\n",
       "      <th>0</th>\n",
       "      <td>4.30</td>\n",
       "      <td>52.4</td>\n",
       "      <td>255.4</td>\n",
       "      <td>61.4</td>\n",
       "      <td>22</td>\n",
       "      <td>broken belt</td>\n",
       "    </tr>\n",
       "    <tr>\n",
       "      <th>1</th>\n",
       "      <td>3.11</td>\n",
       "      <td>52.2</td>\n",
       "      <td>234.8</td>\n",
       "      <td>59.6</td>\n",
       "      <td>13</td>\n",
       "      <td>skid</td>\n",
       "    </tr>\n",
       "    <tr>\n",
       "      <th>2</th>\n",
       "      <td>3.22</td>\n",
       "      <td>51.6</td>\n",
       "      <td>210.4</td>\n",
       "      <td>59.6</td>\n",
       "      <td>14</td>\n",
       "      <td>off track</td>\n",
       "    </tr>\n",
       "    <tr>\n",
       "      <th>3</th>\n",
       "      <td>4.23</td>\n",
       "      <td>52.2</td>\n",
       "      <td>266.2</td>\n",
       "      <td>58.5</td>\n",
       "      <td>24</td>\n",
       "      <td>broken belt</td>\n",
       "    </tr>\n",
       "    <tr>\n",
       "      <th>4</th>\n",
       "      <td>4.27</td>\n",
       "      <td>52.6</td>\n",
       "      <td>284.6</td>\n",
       "      <td>57.5</td>\n",
       "      <td>22</td>\n",
       "      <td>broken belt</td>\n",
       "    </tr>\n",
       "  </tbody>\n",
       "</table>\n",
       "</div>"
      ],
      "text/plain": [
       "   belt speed m/s  Motor temperature ℃  Motor current A  Drum temperature ℃  \\\n",
       "0            4.30                 52.4            255.4                61.4   \n",
       "1            3.11                 52.2            234.8                59.6   \n",
       "2            3.22                 51.6            210.4                59.6   \n",
       "3            4.23                 52.2            266.2                58.5   \n",
       "4            4.27                 52.6            284.6                57.5   \n",
       "\n",
       "   Belt tension MP BELT RUNNIG STATUS  \n",
       "0               22        broken belt  \n",
       "1               13               skid  \n",
       "2               14          off track  \n",
       "3               24        broken belt  \n",
       "4               22        broken belt  "
      ]
     },
     "execution_count": 3,
     "metadata": {},
     "output_type": "execute_result"
    }
   ],
   "source": [
    "original_data.head()"
   ]
  },
  {
   "cell_type": "code",
   "execution_count": 4,
   "id": "7a1136f4",
   "metadata": {},
   "outputs": [
    {
     "data": {
      "text/plain": [
       "Index(['belt speed m/s', 'Motor temperature ℃', 'Motor current A',\n",
       "       'Drum temperature ℃', 'Belt tension MP', 'BELT RUNNIG STATUS'],\n",
       "      dtype='object')"
      ]
     },
     "execution_count": 4,
     "metadata": {},
     "output_type": "execute_result"
    }
   ],
   "source": [
    "original_data.columns"
   ]
  },
  {
   "cell_type": "code",
   "execution_count": 5,
   "id": "c3a52d26",
   "metadata": {},
   "outputs": [],
   "source": [
    "# change the column names\n",
    "new_columns=({'belt speed m/s':'belt speed','Motor temperature ℃':'motor temperature', \n",
    "              'Motor current A':'motor current',\n",
    "              'Drum temperature ℃':'drum temperature', 'Belt tension MP':'belt tension', \n",
    "              'BELT RUNNIG STATUS':'belt running status'})"
   ]
  },
  {
   "cell_type": "code",
   "execution_count": 6,
   "id": "2170bda9",
   "metadata": {},
   "outputs": [],
   "source": [
    "data=original_data.rename(columns=new_columns)"
   ]
  },
  {
   "cell_type": "code",
   "execution_count": 7,
   "id": "73afdf60",
   "metadata": {},
   "outputs": [
    {
     "data": {
      "text/html": [
       "<div>\n",
       "<style scoped>\n",
       "    .dataframe tbody tr th:only-of-type {\n",
       "        vertical-align: middle;\n",
       "    }\n",
       "\n",
       "    .dataframe tbody tr th {\n",
       "        vertical-align: top;\n",
       "    }\n",
       "\n",
       "    .dataframe thead th {\n",
       "        text-align: right;\n",
       "    }\n",
       "</style>\n",
       "<table border=\"1\" class=\"dataframe\">\n",
       "  <thead>\n",
       "    <tr style=\"text-align: right;\">\n",
       "      <th></th>\n",
       "      <th>belt speed</th>\n",
       "      <th>motor temperature</th>\n",
       "      <th>motor current</th>\n",
       "      <th>drum temperature</th>\n",
       "      <th>belt tension</th>\n",
       "      <th>belt running status</th>\n",
       "    </tr>\n",
       "  </thead>\n",
       "  <tbody>\n",
       "    <tr>\n",
       "      <th>0</th>\n",
       "      <td>4.30</td>\n",
       "      <td>52.4</td>\n",
       "      <td>255.4</td>\n",
       "      <td>61.4</td>\n",
       "      <td>22</td>\n",
       "      <td>broken belt</td>\n",
       "    </tr>\n",
       "    <tr>\n",
       "      <th>1</th>\n",
       "      <td>3.11</td>\n",
       "      <td>52.2</td>\n",
       "      <td>234.8</td>\n",
       "      <td>59.6</td>\n",
       "      <td>13</td>\n",
       "      <td>skid</td>\n",
       "    </tr>\n",
       "    <tr>\n",
       "      <th>2</th>\n",
       "      <td>3.22</td>\n",
       "      <td>51.6</td>\n",
       "      <td>210.4</td>\n",
       "      <td>59.6</td>\n",
       "      <td>14</td>\n",
       "      <td>off track</td>\n",
       "    </tr>\n",
       "    <tr>\n",
       "      <th>3</th>\n",
       "      <td>4.23</td>\n",
       "      <td>52.2</td>\n",
       "      <td>266.2</td>\n",
       "      <td>58.5</td>\n",
       "      <td>24</td>\n",
       "      <td>broken belt</td>\n",
       "    </tr>\n",
       "    <tr>\n",
       "      <th>4</th>\n",
       "      <td>4.27</td>\n",
       "      <td>52.6</td>\n",
       "      <td>284.6</td>\n",
       "      <td>57.5</td>\n",
       "      <td>22</td>\n",
       "      <td>broken belt</td>\n",
       "    </tr>\n",
       "  </tbody>\n",
       "</table>\n",
       "</div>"
      ],
      "text/plain": [
       "   belt speed  motor temperature  motor current  drum temperature  \\\n",
       "0        4.30               52.4          255.4              61.4   \n",
       "1        3.11               52.2          234.8              59.6   \n",
       "2        3.22               51.6          210.4              59.6   \n",
       "3        4.23               52.2          266.2              58.5   \n",
       "4        4.27               52.6          284.6              57.5   \n",
       "\n",
       "   belt tension belt running status  \n",
       "0            22         broken belt  \n",
       "1            13                skid  \n",
       "2            14           off track  \n",
       "3            24         broken belt  \n",
       "4            22         broken belt  "
      ]
     },
     "execution_count": 7,
     "metadata": {},
     "output_type": "execute_result"
    }
   ],
   "source": [
    "#print the new data set\n",
    "data.head()"
   ]
  },
  {
   "cell_type": "code",
   "execution_count": 8,
   "id": "dedfc6f9",
   "metadata": {},
   "outputs": [
    {
     "data": {
      "text/plain": [
       "belt speed             0\n",
       "motor temperature      0\n",
       "motor current          0\n",
       "drum temperature       0\n",
       "belt tension           0\n",
       "belt running status    0\n",
       "dtype: int64"
      ]
     },
     "execution_count": 8,
     "metadata": {},
     "output_type": "execute_result"
    }
   ],
   "source": [
    "#check the null values\n",
    "data.isnull().sum()"
   ]
  },
  {
   "cell_type": "code",
   "execution_count": 9,
   "id": "8b4decdf",
   "metadata": {},
   "outputs": [
    {
     "data": {
      "text/plain": [
       "(150, 6)"
      ]
     },
     "execution_count": 9,
     "metadata": {},
     "output_type": "execute_result"
    }
   ],
   "source": [
    "#check the shape\n",
    "data.shape"
   ]
  },
  {
   "cell_type": "code",
   "execution_count": 10,
   "id": "1cd0c35b",
   "metadata": {},
   "outputs": [],
   "source": [
    "#seperate the independent fetaures and dependent features\n",
    "X_data=data.iloc[:,:5]"
   ]
  },
  {
   "cell_type": "code",
   "execution_count": 11,
   "id": "6051ba71",
   "metadata": {},
   "outputs": [
    {
     "data": {
      "text/html": [
       "<div>\n",
       "<style scoped>\n",
       "    .dataframe tbody tr th:only-of-type {\n",
       "        vertical-align: middle;\n",
       "    }\n",
       "\n",
       "    .dataframe tbody tr th {\n",
       "        vertical-align: top;\n",
       "    }\n",
       "\n",
       "    .dataframe thead th {\n",
       "        text-align: right;\n",
       "    }\n",
       "</style>\n",
       "<table border=\"1\" class=\"dataframe\">\n",
       "  <thead>\n",
       "    <tr style=\"text-align: right;\">\n",
       "      <th></th>\n",
       "      <th>belt speed</th>\n",
       "      <th>motor temperature</th>\n",
       "      <th>motor current</th>\n",
       "      <th>drum temperature</th>\n",
       "      <th>belt tension</th>\n",
       "    </tr>\n",
       "  </thead>\n",
       "  <tbody>\n",
       "    <tr>\n",
       "      <th>0</th>\n",
       "      <td>4.30</td>\n",
       "      <td>52.4</td>\n",
       "      <td>255.4</td>\n",
       "      <td>61.4</td>\n",
       "      <td>22</td>\n",
       "    </tr>\n",
       "    <tr>\n",
       "      <th>1</th>\n",
       "      <td>3.11</td>\n",
       "      <td>52.2</td>\n",
       "      <td>234.8</td>\n",
       "      <td>59.6</td>\n",
       "      <td>13</td>\n",
       "    </tr>\n",
       "    <tr>\n",
       "      <th>2</th>\n",
       "      <td>3.22</td>\n",
       "      <td>51.6</td>\n",
       "      <td>210.4</td>\n",
       "      <td>59.6</td>\n",
       "      <td>14</td>\n",
       "    </tr>\n",
       "    <tr>\n",
       "      <th>3</th>\n",
       "      <td>4.23</td>\n",
       "      <td>52.2</td>\n",
       "      <td>266.2</td>\n",
       "      <td>58.5</td>\n",
       "      <td>24</td>\n",
       "    </tr>\n",
       "    <tr>\n",
       "      <th>4</th>\n",
       "      <td>4.27</td>\n",
       "      <td>52.6</td>\n",
       "      <td>284.6</td>\n",
       "      <td>57.5</td>\n",
       "      <td>22</td>\n",
       "    </tr>\n",
       "  </tbody>\n",
       "</table>\n",
       "</div>"
      ],
      "text/plain": [
       "   belt speed  motor temperature  motor current  drum temperature  \\\n",
       "0        4.30               52.4          255.4              61.4   \n",
       "1        3.11               52.2          234.8              59.6   \n",
       "2        3.22               51.6          210.4              59.6   \n",
       "3        4.23               52.2          266.2              58.5   \n",
       "4        4.27               52.6          284.6              57.5   \n",
       "\n",
       "   belt tension  \n",
       "0            22  \n",
       "1            13  \n",
       "2            14  \n",
       "3            24  \n",
       "4            22  "
      ]
     },
     "execution_count": 11,
     "metadata": {},
     "output_type": "execute_result"
    }
   ],
   "source": [
    "X_data.head()"
   ]
  },
  {
   "cell_type": "code",
   "execution_count": 12,
   "id": "6357f649",
   "metadata": {},
   "outputs": [],
   "source": [
    "Y_data=data.iloc[:,5:]"
   ]
  },
  {
   "cell_type": "code",
   "execution_count": 13,
   "id": "9c4ef22f",
   "metadata": {},
   "outputs": [
    {
     "data": {
      "text/html": [
       "<div>\n",
       "<style scoped>\n",
       "    .dataframe tbody tr th:only-of-type {\n",
       "        vertical-align: middle;\n",
       "    }\n",
       "\n",
       "    .dataframe tbody tr th {\n",
       "        vertical-align: top;\n",
       "    }\n",
       "\n",
       "    .dataframe thead th {\n",
       "        text-align: right;\n",
       "    }\n",
       "</style>\n",
       "<table border=\"1\" class=\"dataframe\">\n",
       "  <thead>\n",
       "    <tr style=\"text-align: right;\">\n",
       "      <th></th>\n",
       "      <th>belt running status</th>\n",
       "    </tr>\n",
       "  </thead>\n",
       "  <tbody>\n",
       "    <tr>\n",
       "      <th>0</th>\n",
       "      <td>broken belt</td>\n",
       "    </tr>\n",
       "    <tr>\n",
       "      <th>1</th>\n",
       "      <td>skid</td>\n",
       "    </tr>\n",
       "    <tr>\n",
       "      <th>2</th>\n",
       "      <td>off track</td>\n",
       "    </tr>\n",
       "    <tr>\n",
       "      <th>3</th>\n",
       "      <td>broken belt</td>\n",
       "    </tr>\n",
       "    <tr>\n",
       "      <th>4</th>\n",
       "      <td>broken belt</td>\n",
       "    </tr>\n",
       "  </tbody>\n",
       "</table>\n",
       "</div>"
      ],
      "text/plain": [
       "  belt running status\n",
       "0         broken belt\n",
       "1                skid\n",
       "2           off track\n",
       "3         broken belt\n",
       "4         broken belt"
      ]
     },
     "execution_count": 13,
     "metadata": {},
     "output_type": "execute_result"
    }
   ],
   "source": [
    "Y_data.head()"
   ]
  },
  {
   "cell_type": "markdown",
   "id": "2e1f54ca",
   "metadata": {},
   "source": [
    "- the independent features are numerical so we have to consider dependent feature to feature engineering"
   ]
  },
  {
   "cell_type": "code",
   "execution_count": 14,
   "id": "fec254ca",
   "metadata": {},
   "outputs": [
    {
     "data": {
      "text/plain": [
       "belt running status\n",
       "broken belt            59\n",
       "mistracking            37\n",
       "slip                   19\n",
       "normal                 16\n",
       "high temperature       13\n",
       "skid                    4\n",
       "brk                     1\n",
       "off track               1\n",
       "dtype: int64"
      ]
     },
     "execution_count": 14,
     "metadata": {},
     "output_type": "execute_result"
    }
   ],
   "source": [
    "Y_data.value_counts()"
   ]
  },
  {
   "cell_type": "code",
   "execution_count": 15,
   "id": "7101f342",
   "metadata": {},
   "outputs": [
    {
     "data": {
      "text/plain": [
       "array(['broken belt', 'skid', 'off track', 'high temperature',\n",
       "       'mistracking', 'normal', 'slip', 'brk'], dtype=object)"
      ]
     },
     "execution_count": 15,
     "metadata": {},
     "output_type": "execute_result"
    }
   ],
   "source": [
    "# check the unique values\n",
    "Y_data['belt running status'].unique()"
   ]
  },
  {
   "cell_type": "code",
   "execution_count": 16,
   "id": "308765cd",
   "metadata": {},
   "outputs": [],
   "source": [
    "from sklearn.preprocessing import LabelEncoder\n",
    "\n",
    "\n",
    "# Initialize LabelEncoder\n",
    "label_encoder = LabelEncoder()\n",
    "\n",
    "y=label_encoder.fit_transform(Y_data['belt running status'])"
   ]
  },
  {
   "cell_type": "code",
   "execution_count": 17,
   "id": "c3b402b6",
   "metadata": {},
   "outputs": [
    {
     "data": {
      "text/plain": [
       "array(['broken belt', 'skid', 'off track', 'broken belt', 'broken belt',\n",
       "       'skid', 'skid', 'broken belt', 'broken belt', 'skid',\n",
       "       'high temperature', 'broken belt', 'mistracking', 'broken belt',\n",
       "       'broken belt', 'mistracking', 'broken belt', 'mistracking',\n",
       "       'normal', 'normal', 'high temperature', 'mistracking',\n",
       "       'broken belt', 'slip', 'mistracking', 'broken belt', 'broken belt',\n",
       "       'slip', 'slip', 'broken belt', 'broken belt', 'slip',\n",
       "       'high temperature', 'broken belt', 'mistracking', 'broken belt',\n",
       "       'broken belt', 'mistracking', 'broken belt', 'mistracking',\n",
       "       'normal', 'normal', 'high temperature', 'mistracking',\n",
       "       'broken belt', 'mistracking', 'broken belt', 'broken belt',\n",
       "       'mistracking', 'broken belt', 'mistracking', 'normal', 'normal',\n",
       "       'high temperature', 'mistracking', 'broken belt', 'slip',\n",
       "       'mistracking', 'broken belt', 'broken belt', 'slip', 'slip',\n",
       "       'broken belt', 'broken belt', 'slip', 'high temperature',\n",
       "       'broken belt', 'mistracking', 'broken belt', 'broken belt',\n",
       "       'mistracking', 'broken belt', 'mistracking', 'normal', 'normal',\n",
       "       'high temperature', 'mistracking', 'broken belt', 'mistracking',\n",
       "       'broken belt', 'broken belt', 'mistracking', 'broken belt',\n",
       "       'mistracking', 'normal', 'normal', 'high temperature',\n",
       "       'mistracking', 'broken belt', 'slip', 'mistracking', 'broken belt',\n",
       "       'broken belt', 'slip', 'slip', 'broken belt', 'broken belt',\n",
       "       'slip', 'high temperature', 'brk', 'mistracking', 'broken belt',\n",
       "       'broken belt', 'mistracking', 'broken belt', 'mistracking',\n",
       "       'normal', 'normal', 'high temperature', 'mistracking',\n",
       "       'broken belt', 'mistracking', 'broken belt', 'broken belt',\n",
       "       'mistracking', 'broken belt', 'mistracking', 'normal', 'normal',\n",
       "       'high temperature', 'mistracking', 'broken belt', 'slip',\n",
       "       'mistracking', 'broken belt', 'broken belt', 'slip', 'slip',\n",
       "       'broken belt', 'broken belt', 'slip', 'high temperature',\n",
       "       'broken belt', 'mistracking', 'broken belt', 'broken belt',\n",
       "       'mistracking', 'broken belt', 'mistracking', 'normal', 'normal',\n",
       "       'high temperature', 'mistracking', 'broken belt', 'slip',\n",
       "       'mistracking', 'broken belt', 'broken belt', 'slip', 'slip'],\n",
       "      dtype=object)"
      ]
     },
     "execution_count": 17,
     "metadata": {},
     "output_type": "execute_result"
    }
   ],
   "source": [
    "np.array(data['belt running status'])"
   ]
  },
  {
   "cell_type": "code",
   "execution_count": 18,
   "id": "a19c2388",
   "metadata": {},
   "outputs": [
    {
     "data": {
      "text/plain": [
       "belt running status\n",
       "broken belt            59\n",
       "mistracking            37\n",
       "slip                   19\n",
       "normal                 16\n",
       "high temperature       13\n",
       "skid                    4\n",
       "brk                     1\n",
       "off track               1\n",
       "dtype: int64"
      ]
     },
     "execution_count": 18,
     "metadata": {},
     "output_type": "execute_result"
    }
   ],
   "source": [
    "Y_data.value_counts()\n"
   ]
  },
  {
   "cell_type": "code",
   "execution_count": 19,
   "id": "79292af4",
   "metadata": {},
   "outputs": [],
   "source": [
    "# now split the data \n",
    "from sklearn.model_selection import train_test_split\n",
    "x_train,x_test,y_train,y_test=train_test_split(X_data,y,random_state=42,test_size=0.33)"
   ]
  },
  {
   "cell_type": "code",
   "execution_count": 20,
   "id": "ec96a5cc",
   "metadata": {},
   "outputs": [
    {
     "name": "stdout",
     "output_type": "stream",
     "text": [
      "(100, 5) (50, 5) (100,) (50,)\n"
     ]
    }
   ],
   "source": [
    "#print the shapes\n",
    "print(x_train.shape,x_test.shape,y_train.shape,y_test.shape)"
   ]
  },
  {
   "cell_type": "code",
   "execution_count": 21,
   "id": "330bc4fa",
   "metadata": {},
   "outputs": [],
   "source": [
    "#Now scaling the Numerical values\n",
    "from sklearn.preprocessing import StandardScaler\n",
    "sc=StandardScaler()"
   ]
  },
  {
   "cell_type": "code",
   "execution_count": 22,
   "id": "3888de95",
   "metadata": {},
   "outputs": [
    {
     "data": {
      "text/plain": [
       "Index(['belt speed', 'motor temperature', 'motor current', 'drum temperature',\n",
       "       'belt tension'],\n",
       "      dtype='object')"
      ]
     },
     "execution_count": 22,
     "metadata": {},
     "output_type": "execute_result"
    }
   ],
   "source": [
    "X_data.columns"
   ]
  },
  {
   "cell_type": "code",
   "execution_count": 23,
   "id": "2a0034e6",
   "metadata": {},
   "outputs": [],
   "source": [
    "numerical_features=['belt speed', 'motor temperature', 'motor current', 'drum temperature','belt tension']\n",
    "x_train[numerical_features]=sc.fit_transform(x_train[numerical_features])\n",
    "x_test[numerical_features]=sc.transform(x_test[numerical_features])"
   ]
  },
  {
   "cell_type": "code",
   "execution_count": 24,
   "id": "90c804b7",
   "metadata": {},
   "outputs": [
    {
     "data": {
      "text/html": [
       "<div>\n",
       "<style scoped>\n",
       "    .dataframe tbody tr th:only-of-type {\n",
       "        vertical-align: middle;\n",
       "    }\n",
       "\n",
       "    .dataframe tbody tr th {\n",
       "        vertical-align: top;\n",
       "    }\n",
       "\n",
       "    .dataframe thead th {\n",
       "        text-align: right;\n",
       "    }\n",
       "</style>\n",
       "<table border=\"1\" class=\"dataframe\">\n",
       "  <thead>\n",
       "    <tr style=\"text-align: right;\">\n",
       "      <th></th>\n",
       "      <th>belt speed</th>\n",
       "      <th>motor temperature</th>\n",
       "      <th>motor current</th>\n",
       "      <th>drum temperature</th>\n",
       "      <th>belt tension</th>\n",
       "    </tr>\n",
       "  </thead>\n",
       "  <tbody>\n",
       "    <tr>\n",
       "      <th>96</th>\n",
       "      <td>0.859197</td>\n",
       "      <td>-0.546477</td>\n",
       "      <td>-0.074496</td>\n",
       "      <td>0.000769</td>\n",
       "      <td>0.504238</td>\n",
       "    </tr>\n",
       "    <tr>\n",
       "      <th>105</th>\n",
       "      <td>0.842445</td>\n",
       "      <td>1.935045</td>\n",
       "      <td>-0.688081</td>\n",
       "      <td>1.385754</td>\n",
       "      <td>-0.499221</td>\n",
       "    </tr>\n",
       "    <tr>\n",
       "      <th>66</th>\n",
       "      <td>0.842445</td>\n",
       "      <td>1.832652</td>\n",
       "      <td>-0.721960</td>\n",
       "      <td>0.000769</td>\n",
       "      <td>-0.750085</td>\n",
       "    </tr>\n",
       "    <tr>\n",
       "      <th>0</th>\n",
       "      <td>0.875949</td>\n",
       "      <td>-0.534431</td>\n",
       "      <td>1.002100</td>\n",
       "      <td>1.385754</td>\n",
       "      <td>2.009426</td>\n",
       "    </tr>\n",
       "    <tr>\n",
       "      <th>122</th>\n",
       "      <td>-0.162659</td>\n",
       "      <td>-0.540454</td>\n",
       "      <td>2.251856</td>\n",
       "      <td>0.308544</td>\n",
       "      <td>3.012884</td>\n",
       "    </tr>\n",
       "  </tbody>\n",
       "</table>\n",
       "</div>"
      ],
      "text/plain": [
       "     belt speed  motor temperature  motor current  drum temperature  \\\n",
       "96     0.859197          -0.546477      -0.074496          0.000769   \n",
       "105    0.842445           1.935045      -0.688081          1.385754   \n",
       "66     0.842445           1.832652      -0.721960          0.000769   \n",
       "0      0.875949          -0.534431       1.002100          1.385754   \n",
       "122   -0.162659          -0.540454       2.251856          0.308544   \n",
       "\n",
       "     belt tension  \n",
       "96       0.504238  \n",
       "105     -0.499221  \n",
       "66      -0.750085  \n",
       "0        2.009426  \n",
       "122      3.012884  "
      ]
     },
     "execution_count": 24,
     "metadata": {},
     "output_type": "execute_result"
    }
   ],
   "source": [
    "x_train.head()"
   ]
  },
  {
   "cell_type": "code",
   "execution_count": 25,
   "id": "d4fd9af5",
   "metadata": {},
   "outputs": [
    {
     "data": {
      "text/html": [
       "<div>\n",
       "<style scoped>\n",
       "    .dataframe tbody tr th:only-of-type {\n",
       "        vertical-align: middle;\n",
       "    }\n",
       "\n",
       "    .dataframe tbody tr th {\n",
       "        vertical-align: top;\n",
       "    }\n",
       "\n",
       "    .dataframe thead th {\n",
       "        text-align: right;\n",
       "    }\n",
       "</style>\n",
       "<table border=\"1\" class=\"dataframe\">\n",
       "  <thead>\n",
       "    <tr style=\"text-align: right;\">\n",
       "      <th></th>\n",
       "      <th>belt speed</th>\n",
       "      <th>motor temperature</th>\n",
       "      <th>motor current</th>\n",
       "      <th>drum temperature</th>\n",
       "      <th>belt tension</th>\n",
       "    </tr>\n",
       "  </thead>\n",
       "  <tbody>\n",
       "    <tr>\n",
       "      <th>73</th>\n",
       "      <td>0.725183</td>\n",
       "      <td>-0.522384</td>\n",
       "      <td>-0.718195</td>\n",
       "      <td>1.385754</td>\n",
       "      <td>0.002509</td>\n",
       "    </tr>\n",
       "    <tr>\n",
       "      <th>18</th>\n",
       "      <td>0.875949</td>\n",
       "      <td>-0.534431</td>\n",
       "      <td>-0.729488</td>\n",
       "      <td>1.385754</td>\n",
       "      <td>0.002509</td>\n",
       "    </tr>\n",
       "    <tr>\n",
       "      <th>118</th>\n",
       "      <td>0.842445</td>\n",
       "      <td>-0.516361</td>\n",
       "      <td>1.570513</td>\n",
       "      <td>0.000769</td>\n",
       "      <td>1.507696</td>\n",
       "    </tr>\n",
       "    <tr>\n",
       "      <th>78</th>\n",
       "      <td>0.892700</td>\n",
       "      <td>-0.564546</td>\n",
       "      <td>1.886716</td>\n",
       "      <td>-1.076441</td>\n",
       "      <td>2.762019</td>\n",
       "    </tr>\n",
       "    <tr>\n",
       "      <th>76</th>\n",
       "      <td>-0.765722</td>\n",
       "      <td>-0.576592</td>\n",
       "      <td>-0.684316</td>\n",
       "      <td>0.847149</td>\n",
       "      <td>0.002509</td>\n",
       "    </tr>\n",
       "  </tbody>\n",
       "</table>\n",
       "</div>"
      ],
      "text/plain": [
       "     belt speed  motor temperature  motor current  drum temperature  \\\n",
       "73     0.725183          -0.522384      -0.718195          1.385754   \n",
       "18     0.875949          -0.534431      -0.729488          1.385754   \n",
       "118    0.842445          -0.516361       1.570513          0.000769   \n",
       "78     0.892700          -0.564546       1.886716         -1.076441   \n",
       "76    -0.765722          -0.576592      -0.684316          0.847149   \n",
       "\n",
       "     belt tension  \n",
       "73       0.002509  \n",
       "18       0.002509  \n",
       "118      1.507696  \n",
       "78       2.762019  \n",
       "76       0.002509  "
      ]
     },
     "execution_count": 25,
     "metadata": {},
     "output_type": "execute_result"
    }
   ],
   "source": [
    "x_test.head()"
   ]
  },
  {
   "cell_type": "code",
   "execution_count": 26,
   "id": "eba68096",
   "metadata": {},
   "outputs": [],
   "source": [
    "# import required librarys\n",
    "import pickle\n",
    "import pandas as pd\n",
    "from sklearn.metrics import accuracy_score"
   ]
  },
  {
   "cell_type": "code",
   "execution_count": 27,
   "id": "a1ce0ef2",
   "metadata": {},
   "outputs": [],
   "source": [
    "# Now use the suiatble machine learning algorithm\n",
    "# Define the model\n",
    "from sklearn.linear_model import LogisticRegression\n",
    "\n",
    "model1=LogisticRegression()"
   ]
  },
  {
   "cell_type": "code",
   "execution_count": 28,
   "id": "1c0e2da2",
   "metadata": {},
   "outputs": [
    {
     "data": {
      "text/html": [
       "<style>#sk-container-id-1 {color: black;background-color: white;}#sk-container-id-1 pre{padding: 0;}#sk-container-id-1 div.sk-toggleable {background-color: white;}#sk-container-id-1 label.sk-toggleable__label {cursor: pointer;display: block;width: 100%;margin-bottom: 0;padding: 0.3em;box-sizing: border-box;text-align: center;}#sk-container-id-1 label.sk-toggleable__label-arrow:before {content: \"▸\";float: left;margin-right: 0.25em;color: #696969;}#sk-container-id-1 label.sk-toggleable__label-arrow:hover:before {color: black;}#sk-container-id-1 div.sk-estimator:hover label.sk-toggleable__label-arrow:before {color: black;}#sk-container-id-1 div.sk-toggleable__content {max-height: 0;max-width: 0;overflow: hidden;text-align: left;background-color: #f0f8ff;}#sk-container-id-1 div.sk-toggleable__content pre {margin: 0.2em;color: black;border-radius: 0.25em;background-color: #f0f8ff;}#sk-container-id-1 input.sk-toggleable__control:checked~div.sk-toggleable__content {max-height: 200px;max-width: 100%;overflow: auto;}#sk-container-id-1 input.sk-toggleable__control:checked~label.sk-toggleable__label-arrow:before {content: \"▾\";}#sk-container-id-1 div.sk-estimator input.sk-toggleable__control:checked~label.sk-toggleable__label {background-color: #d4ebff;}#sk-container-id-1 div.sk-label input.sk-toggleable__control:checked~label.sk-toggleable__label {background-color: #d4ebff;}#sk-container-id-1 input.sk-hidden--visually {border: 0;clip: rect(1px 1px 1px 1px);clip: rect(1px, 1px, 1px, 1px);height: 1px;margin: -1px;overflow: hidden;padding: 0;position: absolute;width: 1px;}#sk-container-id-1 div.sk-estimator {font-family: monospace;background-color: #f0f8ff;border: 1px dotted black;border-radius: 0.25em;box-sizing: border-box;margin-bottom: 0.5em;}#sk-container-id-1 div.sk-estimator:hover {background-color: #d4ebff;}#sk-container-id-1 div.sk-parallel-item::after {content: \"\";width: 100%;border-bottom: 1px solid gray;flex-grow: 1;}#sk-container-id-1 div.sk-label:hover label.sk-toggleable__label {background-color: #d4ebff;}#sk-container-id-1 div.sk-serial::before {content: \"\";position: absolute;border-left: 1px solid gray;box-sizing: border-box;top: 0;bottom: 0;left: 50%;z-index: 0;}#sk-container-id-1 div.sk-serial {display: flex;flex-direction: column;align-items: center;background-color: white;padding-right: 0.2em;padding-left: 0.2em;position: relative;}#sk-container-id-1 div.sk-item {position: relative;z-index: 1;}#sk-container-id-1 div.sk-parallel {display: flex;align-items: stretch;justify-content: center;background-color: white;position: relative;}#sk-container-id-1 div.sk-item::before, #sk-container-id-1 div.sk-parallel-item::before {content: \"\";position: absolute;border-left: 1px solid gray;box-sizing: border-box;top: 0;bottom: 0;left: 50%;z-index: -1;}#sk-container-id-1 div.sk-parallel-item {display: flex;flex-direction: column;z-index: 1;position: relative;background-color: white;}#sk-container-id-1 div.sk-parallel-item:first-child::after {align-self: flex-end;width: 50%;}#sk-container-id-1 div.sk-parallel-item:last-child::after {align-self: flex-start;width: 50%;}#sk-container-id-1 div.sk-parallel-item:only-child::after {width: 0;}#sk-container-id-1 div.sk-dashed-wrapped {border: 1px dashed gray;margin: 0 0.4em 0.5em 0.4em;box-sizing: border-box;padding-bottom: 0.4em;background-color: white;}#sk-container-id-1 div.sk-label label {font-family: monospace;font-weight: bold;display: inline-block;line-height: 1.2em;}#sk-container-id-1 div.sk-label-container {text-align: center;}#sk-container-id-1 div.sk-container {/* jupyter's `normalize.less` sets `[hidden] { display: none; }` but bootstrap.min.css set `[hidden] { display: none !important; }` so we also need the `!important` here to be able to override the default hidden behavior on the sphinx rendered scikit-learn.org. See: https://github.com/scikit-learn/scikit-learn/issues/21755 */display: inline-block !important;position: relative;}#sk-container-id-1 div.sk-text-repr-fallback {display: none;}</style><div id=\"sk-container-id-1\" class=\"sk-top-container\"><div class=\"sk-text-repr-fallback\"><pre>LogisticRegression()</pre><b>In a Jupyter environment, please rerun this cell to show the HTML representation or trust the notebook. <br />On GitHub, the HTML representation is unable to render, please try loading this page with nbviewer.org.</b></div><div class=\"sk-container\" hidden><div class=\"sk-item\"><div class=\"sk-estimator sk-toggleable\"><input class=\"sk-toggleable__control sk-hidden--visually\" id=\"sk-estimator-id-1\" type=\"checkbox\" checked><label for=\"sk-estimator-id-1\" class=\"sk-toggleable__label sk-toggleable__label-arrow\">LogisticRegression</label><div class=\"sk-toggleable__content\"><pre>LogisticRegression()</pre></div></div></div></div></div>"
      ],
      "text/plain": [
       "LogisticRegression()"
      ]
     },
     "execution_count": 28,
     "metadata": {},
     "output_type": "execute_result"
    }
   ],
   "source": [
    "model1.fit(x_train,y_train)"
   ]
  },
  {
   "cell_type": "code",
   "execution_count": 30,
   "id": "b451ca8a",
   "metadata": {},
   "outputs": [],
   "source": [
    "# Make predictions on the test set\n",
    "test_predictions = model1.predict(x_test)"
   ]
  },
  {
   "cell_type": "code",
   "execution_count": 31,
   "id": "e754ed47",
   "metadata": {},
   "outputs": [
    {
     "data": {
      "text/plain": [
       "array([3, 3, 1, 1, 3, 3, 3, 1, 1, 3, 3, 3, 1, 1, 1, 1, 1, 1, 1, 3, 3, 1,\n",
       "       3, 1, 3, 1, 3, 1, 3, 1, 3, 3, 1, 1, 1, 3, 3, 1, 1, 1, 1, 1, 1, 1,\n",
       "       3, 3, 3, 1, 3, 1])"
      ]
     },
     "execution_count": 31,
     "metadata": {},
     "output_type": "execute_result"
    }
   ],
   "source": [
    "test_predictions\n"
   ]
  },
  {
   "cell_type": "code",
   "execution_count": 32,
   "id": "892f6367",
   "metadata": {},
   "outputs": [],
   "source": [
    "#check the accuracy\n",
    "from sklearn.metrics import accuracy_score,confusion_matrix,classification_report\n",
    "\n",
    "accuracy = accuracy_score(y_test, test_predictions)"
   ]
  },
  {
   "cell_type": "code",
   "execution_count": 33,
   "id": "165457b1",
   "metadata": {},
   "outputs": [
    {
     "data": {
      "text/plain": [
       "array([[12,  0,  7,  0,  0,  0],\n",
       "       [ 5,  0,  4,  0,  0,  0],\n",
       "       [ 4,  0,  6,  0,  0,  0],\n",
       "       [ 3,  0,  3,  0,  0,  0],\n",
       "       [ 1,  0,  0,  0,  0,  0],\n",
       "       [ 3,  0,  2,  0,  0,  0]], dtype=int64)"
      ]
     },
     "execution_count": 33,
     "metadata": {},
     "output_type": "execute_result"
    }
   ],
   "source": [
    "cm=confusion_matrix(y_test,test_predictions)\n",
    "cm"
   ]
  },
  {
   "cell_type": "code",
   "execution_count": 34,
   "id": "a347c061",
   "metadata": {},
   "outputs": [
    {
     "name": "stdout",
     "output_type": "stream",
     "text": [
      "              precision    recall  f1-score   support\n",
      "\n",
      "           1       0.43      0.63      0.51        19\n",
      "           2       0.00      0.00      0.00         9\n",
      "           3       0.27      0.60      0.37        10\n",
      "           4       0.00      0.00      0.00         6\n",
      "           6       0.00      0.00      0.00         1\n",
      "           7       0.00      0.00      0.00         5\n",
      "\n",
      "    accuracy                           0.36        50\n",
      "   macro avg       0.12      0.21      0.15        50\n",
      "weighted avg       0.22      0.36      0.27        50\n",
      "\n"
     ]
    },
    {
     "name": "stderr",
     "output_type": "stream",
     "text": [
      "C:\\ProgramData\\anaconda3\\Lib\\site-packages\\sklearn\\metrics\\_classification.py:1344: UndefinedMetricWarning: Precision and F-score are ill-defined and being set to 0.0 in labels with no predicted samples. Use `zero_division` parameter to control this behavior.\n",
      "  _warn_prf(average, modifier, msg_start, len(result))\n",
      "C:\\ProgramData\\anaconda3\\Lib\\site-packages\\sklearn\\metrics\\_classification.py:1344: UndefinedMetricWarning: Precision and F-score are ill-defined and being set to 0.0 in labels with no predicted samples. Use `zero_division` parameter to control this behavior.\n",
      "  _warn_prf(average, modifier, msg_start, len(result))\n",
      "C:\\ProgramData\\anaconda3\\Lib\\site-packages\\sklearn\\metrics\\_classification.py:1344: UndefinedMetricWarning: Precision and F-score are ill-defined and being set to 0.0 in labels with no predicted samples. Use `zero_division` parameter to control this behavior.\n",
      "  _warn_prf(average, modifier, msg_start, len(result))\n"
     ]
    }
   ],
   "source": [
    "report=classification_report(y_test,test_predictions)\n",
    "print(report)"
   ]
  },
  {
   "cell_type": "code",
   "execution_count": 39,
   "id": "80284301",
   "metadata": {},
   "outputs": [],
   "source": [
    "# Save the trained model\n",
    "with open('model1.pkl', 'wb') as f:\n",
    "    pickle.dump(model1, f)\n",
    "\n",
    "# Save the standard scaler\n",
    "with open('sc.pkl', 'wb') as f:\n",
    "    pickle.dump(sc, f)\n",
    "    \n",
    "# Load the saved model\n",
    "with open('model1.pkl', 'rb') as f:\n",
    "    loaded_model = pickle.load(f)\n",
    "\n",
    "# Load the saved scaler\n",
    "with open('sc.pkl', 'rb') as f:\n",
    "    loaded_scaler = pickle.load(f)    \n",
    "    "
   ]
  },
  {
   "cell_type": "code",
   "execution_count": 40,
   "id": "7bebbc8c",
   "metadata": {},
   "outputs": [],
   "source": [
    "import numpy as np\n",
    "new_data=np.array(data.head().iloc[:1,:])"
   ]
  },
  {
   "cell_type": "code",
   "execution_count": 41,
   "id": "c2d9a9d0",
   "metadata": {},
   "outputs": [
    {
     "data": {
      "text/plain": [
       "array([[4.3, 52.4, 255.4, 61.4, 22, 'broken belt']], dtype=object)"
      ]
     },
     "execution_count": 41,
     "metadata": {},
     "output_type": "execute_result"
    }
   ],
   "source": [
    "new_data"
   ]
  },
  {
   "cell_type": "code",
   "execution_count": 42,
   "id": "cd50e0f4",
   "metadata": {},
   "outputs": [
    {
     "data": {
      "text/plain": [
       "['belt speed',\n",
       " 'motor temperature',\n",
       " 'motor current',\n",
       " 'drum temperature',\n",
       " 'belt tension',\n",
       " 'belt running status']"
      ]
     },
     "execution_count": 42,
     "metadata": {},
     "output_type": "execute_result"
    }
   ],
   "source": [
    "new_columns=data.columns.to_list()\n",
    "new_columns"
   ]
  },
  {
   "cell_type": "code",
   "execution_count": 43,
   "id": "20b54aa7",
   "metadata": {},
   "outputs": [
    {
     "data": {
      "text/html": [
       "<div>\n",
       "<style scoped>\n",
       "    .dataframe tbody tr th:only-of-type {\n",
       "        vertical-align: middle;\n",
       "    }\n",
       "\n",
       "    .dataframe tbody tr th {\n",
       "        vertical-align: top;\n",
       "    }\n",
       "\n",
       "    .dataframe thead th {\n",
       "        text-align: right;\n",
       "    }\n",
       "</style>\n",
       "<table border=\"1\" class=\"dataframe\">\n",
       "  <thead>\n",
       "    <tr style=\"text-align: right;\">\n",
       "      <th></th>\n",
       "      <th>belt speed</th>\n",
       "      <th>motor temperature</th>\n",
       "      <th>motor current</th>\n",
       "      <th>drum temperature</th>\n",
       "      <th>belt tension</th>\n",
       "      <th>belt running status</th>\n",
       "    </tr>\n",
       "  </thead>\n",
       "  <tbody>\n",
       "    <tr>\n",
       "      <th>0</th>\n",
       "      <td>4.3</td>\n",
       "      <td>52.4</td>\n",
       "      <td>255.4</td>\n",
       "      <td>61.4</td>\n",
       "      <td>22</td>\n",
       "      <td>broken belt</td>\n",
       "    </tr>\n",
       "  </tbody>\n",
       "</table>\n",
       "</div>"
      ],
      "text/plain": [
       "  belt speed motor temperature motor current drum temperature belt tension  \\\n",
       "0        4.3              52.4         255.4             61.4           22   \n",
       "\n",
       "  belt running status  \n",
       "0         broken belt  "
      ]
     },
     "execution_count": 43,
     "metadata": {},
     "output_type": "execute_result"
    }
   ],
   "source": [
    "# convert the data into a data frame\n",
    "new_data = pd.DataFrame(new_data, columns=new_columns)\n",
    "new_data"
   ]
  },
  {
   "cell_type": "code",
   "execution_count": 44,
   "id": "b3f3a61d",
   "metadata": {},
   "outputs": [],
   "source": [
    "new_numerical_features=new_data[['belt speed', 'motor temperature', 'motor current', 'drum temperature','belt tension']]\n",
    "new_categorical_features=new_data[['belt running status']]"
   ]
  },
  {
   "cell_type": "code",
   "execution_count": 45,
   "id": "f743bdd5",
   "metadata": {},
   "outputs": [],
   "source": [
    "# Standardize numerical features using the loaded scaler\n",
    "numerical_features_scaled = loaded_scaler.transform(new_numerical_features)"
   ]
  },
  {
   "cell_type": "code",
   "execution_count": 46,
   "id": "bcaa677d",
   "metadata": {},
   "outputs": [
    {
     "name": "stdout",
     "output_type": "stream",
     "text": [
      "Predictions for new data:\n",
      "[1]\n"
     ]
    },
    {
     "name": "stderr",
     "output_type": "stream",
     "text": [
      "C:\\ProgramData\\anaconda3\\Lib\\site-packages\\sklearn\\base.py:439: UserWarning: X does not have valid feature names, but LogisticRegression was fitted with feature names\n",
      "  warnings.warn(\n"
     ]
    }
   ],
   "source": [
    "# Make predictions\n",
    "predictions = loaded_model.predict(numerical_features_scaled)\n",
    "print(\"Predictions for new data:\")\n",
    "print(predictions)"
   ]
  },
  {
   "cell_type": "code",
   "execution_count": 47,
   "id": "6a5d1173",
   "metadata": {},
   "outputs": [],
   "source": [
    "belt_running_status={0:'Break',1:'Broken Belt',2:'High Temperature',3:'Mistracking',4:'Normal',\n",
    "                    5:'Off track',6:'Skid',7:'Slip'}"
   ]
  },
  {
   "cell_type": "code",
   "execution_count": 48,
   "id": "b97ba08a",
   "metadata": {},
   "outputs": [],
   "source": [
    "belt_running_status=belt_running_status[1]"
   ]
  },
  {
   "cell_type": "code",
   "execution_count": 49,
   "id": "479d2298",
   "metadata": {},
   "outputs": [
    {
     "data": {
      "text/plain": [
       "'Broken Belt'"
      ]
     },
     "execution_count": 49,
     "metadata": {},
     "output_type": "execute_result"
    }
   ],
   "source": [
    "belt_running_status"
   ]
  },
  {
   "cell_type": "code",
   "execution_count": null,
   "id": "580837ee",
   "metadata": {},
   "outputs": [],
   "source": []
  },
  {
   "cell_type": "code",
   "execution_count": null,
   "id": "57ecc237",
   "metadata": {},
   "outputs": [],
   "source": []
  }
 ],
 "metadata": {
  "kernelspec": {
   "display_name": "Python 3 (ipykernel)",
   "language": "python",
   "name": "python3"
  },
  "language_info": {
   "codemirror_mode": {
    "name": "ipython",
    "version": 3
   },
   "file_extension": ".py",
   "mimetype": "text/x-python",
   "name": "python",
   "nbconvert_exporter": "python",
   "pygments_lexer": "ipython3",
   "version": "3.11.3"
  }
 },
 "nbformat": 4,
 "nbformat_minor": 5
}
